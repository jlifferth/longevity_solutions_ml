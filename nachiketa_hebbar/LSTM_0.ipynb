{
 "cells": [
  {
   "cell_type": "code",
   "execution_count": 2,
   "id": "2b47a173",
   "metadata": {},
   "outputs": [],
   "source": [
    "# based on tutorial https://github.com/nachi-hebbar/Time-Series-Forecasting-LSTM/blob/main/RNN_Youtube.ipynb\n",
    "# only using a single variable, 'glucose'\n",
    "\n",
    "# this model is, technically speaking, terrible and useless 😐\n",
    "\n",
    "import pandas as pd\n",
    "import numpy as np\n",
    "import matplotlib.pyplot as plt"
   ]
  },
  {
   "cell_type": "code",
   "execution_count": 86,
   "id": "74c4f04d",
   "metadata": {},
   "outputs": [
    {
     "data": {
      "text/html": [
       "<div>\n",
       "<style scoped>\n",
       "    .dataframe tbody tr th:only-of-type {\n",
       "        vertical-align: middle;\n",
       "    }\n",
       "\n",
       "    .dataframe tbody tr th {\n",
       "        vertical-align: top;\n",
       "    }\n",
       "\n",
       "    .dataframe thead th {\n",
       "        text-align: right;\n",
       "    }\n",
       "</style>\n",
       "<table border=\"1\" class=\"dataframe\">\n",
       "  <thead>\n",
       "    <tr style=\"text-align: right;\">\n",
       "      <th></th>\n",
       "      <th>datetime</th>\n",
       "      <th>glucose</th>\n",
       "    </tr>\n",
       "  </thead>\n",
       "  <tbody>\n",
       "    <tr>\n",
       "      <th>0</th>\n",
       "      <td>2014-10-01 19:14:00</td>\n",
       "      <td>185.4</td>\n",
       "    </tr>\n",
       "    <tr>\n",
       "      <th>1</th>\n",
       "      <td>2014-10-01 19:14:00</td>\n",
       "      <td>185.4</td>\n",
       "    </tr>\n",
       "    <tr>\n",
       "      <th>2</th>\n",
       "      <td>2014-10-01 19:14:00</td>\n",
       "      <td>185.4</td>\n",
       "    </tr>\n",
       "    <tr>\n",
       "      <th>3</th>\n",
       "      <td>2014-10-01 19:14:00</td>\n",
       "      <td>185.4</td>\n",
       "    </tr>\n",
       "    <tr>\n",
       "      <th>4</th>\n",
       "      <td>2014-10-01 19:14:00</td>\n",
       "      <td>185.4</td>\n",
       "    </tr>\n",
       "    <tr>\n",
       "      <th>...</th>\n",
       "      <td>...</td>\n",
       "      <td>...</td>\n",
       "    </tr>\n",
       "    <tr>\n",
       "      <th>1309195</th>\n",
       "      <td>2014-10-04 13:44:00</td>\n",
       "      <td>131.4</td>\n",
       "    </tr>\n",
       "    <tr>\n",
       "      <th>1309196</th>\n",
       "      <td>2014-10-04 13:44:00</td>\n",
       "      <td>131.4</td>\n",
       "    </tr>\n",
       "    <tr>\n",
       "      <th>1309197</th>\n",
       "      <td>2014-10-04 13:44:00</td>\n",
       "      <td>131.4</td>\n",
       "    </tr>\n",
       "    <tr>\n",
       "      <th>1309198</th>\n",
       "      <td>2014-10-04 13:44:00</td>\n",
       "      <td>131.4</td>\n",
       "    </tr>\n",
       "    <tr>\n",
       "      <th>1309199</th>\n",
       "      <td>2014-10-04 13:44:00</td>\n",
       "      <td>131.4</td>\n",
       "    </tr>\n",
       "  </tbody>\n",
       "</table>\n",
       "<p>1309200 rows × 2 columns</p>\n",
       "</div>"
      ],
      "text/plain": [
       "                   datetime  glucose\n",
       "0       2014-10-01 19:14:00    185.4\n",
       "1       2014-10-01 19:14:00    185.4\n",
       "2       2014-10-01 19:14:00    185.4\n",
       "3       2014-10-01 19:14:00    185.4\n",
       "4       2014-10-01 19:14:00    185.4\n",
       "...                     ...      ...\n",
       "1309195 2014-10-04 13:44:00    131.4\n",
       "1309196 2014-10-04 13:44:00    131.4\n",
       "1309197 2014-10-04 13:44:00    131.4\n",
       "1309198 2014-10-04 13:44:00    131.4\n",
       "1309199 2014-10-04 13:44:00    131.4\n",
       "\n",
       "[1309200 rows x 2 columns]"
      ]
     },
     "execution_count": 86,
     "metadata": {},
     "output_type": "execute_result"
    }
   ],
   "source": [
    "df = pd.read_csv('/Users/jonathanlifferth/PycharmProjects/longevity_solutions_ml/0_master_df.csv')\n",
    "                 \n",
    "# ,index_col='datetime',parse_dates=True)\n",
    "df['datetime'] = pd.to_datetime(df['datetime'])\n",
    "df = df.drop(columns=['Unnamed: 0', 'HR', 'Vertical', 'Lateral', 'Sagittal'])\n",
    "# df = df.asfreq('T').index\n",
    "# df.index.freq='min'\n",
    "df"
   ]
  },
  {
   "cell_type": "code",
   "execution_count": 87,
   "id": "ab5e0028",
   "metadata": {},
   "outputs": [
    {
     "data": {
      "text/html": [
       "<div>\n",
       "<style scoped>\n",
       "    .dataframe tbody tr th:only-of-type {\n",
       "        vertical-align: middle;\n",
       "    }\n",
       "\n",
       "    .dataframe tbody tr th {\n",
       "        vertical-align: top;\n",
       "    }\n",
       "\n",
       "    .dataframe thead th {\n",
       "        text-align: right;\n",
       "    }\n",
       "</style>\n",
       "<table border=\"1\" class=\"dataframe\">\n",
       "  <thead>\n",
       "    <tr style=\"text-align: right;\">\n",
       "      <th></th>\n",
       "      <th>glucose</th>\n",
       "    </tr>\n",
       "    <tr>\n",
       "      <th>datetime</th>\n",
       "      <th></th>\n",
       "    </tr>\n",
       "  </thead>\n",
       "  <tbody>\n",
       "    <tr>\n",
       "      <th>2014-10-01 19:14:00</th>\n",
       "      <td>185.4</td>\n",
       "    </tr>\n",
       "    <tr>\n",
       "      <th>2014-10-01 19:19:00</th>\n",
       "      <td>178.2</td>\n",
       "    </tr>\n",
       "    <tr>\n",
       "      <th>2014-10-01 19:23:00</th>\n",
       "      <td>169.2</td>\n",
       "    </tr>\n",
       "    <tr>\n",
       "      <th>2014-10-01 19:24:00</th>\n",
       "      <td>176.4</td>\n",
       "    </tr>\n",
       "    <tr>\n",
       "      <th>2014-10-01 19:29:00</th>\n",
       "      <td>172.8</td>\n",
       "    </tr>\n",
       "    <tr>\n",
       "      <th>...</th>\n",
       "      <td>...</td>\n",
       "    </tr>\n",
       "    <tr>\n",
       "      <th>2014-10-04 13:04:00</th>\n",
       "      <td>72.0</td>\n",
       "    </tr>\n",
       "    <tr>\n",
       "      <th>2014-10-04 13:09:00</th>\n",
       "      <td>79.2</td>\n",
       "    </tr>\n",
       "    <tr>\n",
       "      <th>2014-10-04 13:19:00</th>\n",
       "      <td>97.2</td>\n",
       "    </tr>\n",
       "    <tr>\n",
       "      <th>2014-10-04 13:24:00</th>\n",
       "      <td>106.2</td>\n",
       "    </tr>\n",
       "    <tr>\n",
       "      <th>2014-10-04 13:44:00</th>\n",
       "      <td>131.4</td>\n",
       "    </tr>\n",
       "  </tbody>\n",
       "</table>\n",
       "<p>318 rows × 1 columns</p>\n",
       "</div>"
      ],
      "text/plain": [
       "                     glucose\n",
       "datetime                    \n",
       "2014-10-01 19:14:00    185.4\n",
       "2014-10-01 19:19:00    178.2\n",
       "2014-10-01 19:23:00    169.2\n",
       "2014-10-01 19:24:00    176.4\n",
       "2014-10-01 19:29:00    172.8\n",
       "...                      ...\n",
       "2014-10-04 13:04:00     72.0\n",
       "2014-10-04 13:09:00     79.2\n",
       "2014-10-04 13:19:00     97.2\n",
       "2014-10-04 13:24:00    106.2\n",
       "2014-10-04 13:44:00    131.4\n",
       "\n",
       "[318 rows x 1 columns]"
      ]
     },
     "execution_count": 87,
     "metadata": {},
     "output_type": "execute_result"
    }
   ],
   "source": [
    "df = df.drop_duplicates(subset=['datetime'])\n",
    "df = df.set_index('datetime')\n",
    "df"
   ]
  },
  {
   "cell_type": "code",
   "execution_count": 88,
   "id": "f1e2ec02",
   "metadata": {},
   "outputs": [
    {
     "data": {
      "text/html": [
       "<div>\n",
       "<style scoped>\n",
       "    .dataframe tbody tr th:only-of-type {\n",
       "        vertical-align: middle;\n",
       "    }\n",
       "\n",
       "    .dataframe tbody tr th {\n",
       "        vertical-align: top;\n",
       "    }\n",
       "\n",
       "    .dataframe thead th {\n",
       "        text-align: right;\n",
       "    }\n",
       "</style>\n",
       "<table border=\"1\" class=\"dataframe\">\n",
       "  <thead>\n",
       "    <tr style=\"text-align: right;\">\n",
       "      <th></th>\n",
       "      <th>glucose</th>\n",
       "    </tr>\n",
       "    <tr>\n",
       "      <th>datetime</th>\n",
       "      <th></th>\n",
       "    </tr>\n",
       "  </thead>\n",
       "  <tbody>\n",
       "    <tr>\n",
       "      <th>2014-10-01 19:14:00</th>\n",
       "      <td>185.4</td>\n",
       "    </tr>\n",
       "    <tr>\n",
       "      <th>2014-10-01 19:19:00</th>\n",
       "      <td>178.2</td>\n",
       "    </tr>\n",
       "    <tr>\n",
       "      <th>2014-10-01 19:23:00</th>\n",
       "      <td>169.2</td>\n",
       "    </tr>\n",
       "    <tr>\n",
       "      <th>2014-10-01 19:24:00</th>\n",
       "      <td>176.4</td>\n",
       "    </tr>\n",
       "    <tr>\n",
       "      <th>2014-10-01 19:29:00</th>\n",
       "      <td>172.8</td>\n",
       "    </tr>\n",
       "  </tbody>\n",
       "</table>\n",
       "</div>"
      ],
      "text/plain": [
       "                     glucose\n",
       "datetime                    \n",
       "2014-10-01 19:14:00    185.4\n",
       "2014-10-01 19:19:00    178.2\n",
       "2014-10-01 19:23:00    169.2\n",
       "2014-10-01 19:24:00    176.4\n",
       "2014-10-01 19:29:00    172.8"
      ]
     },
     "execution_count": 88,
     "metadata": {},
     "output_type": "execute_result"
    }
   ],
   "source": [
    "df.head()"
   ]
  },
  {
   "cell_type": "code",
   "execution_count": 89,
   "id": "28a83450",
   "metadata": {},
   "outputs": [
    {
     "data": {
      "text/plain": [
       "<AxesSubplot:xlabel='datetime'>"
      ]
     },
     "execution_count": 89,
     "metadata": {},
     "output_type": "execute_result"
    },
    {
     "data": {
      "image/png": "[encoded data removed]",
      "text/plain": [
       "<Figure size 864x432 with 1 Axes>"
      ]
     },
     "metadata": {
      "needs_background": "light"
     },
     "output_type": "display_data"
    }
   ],
   "source": [
    "df.plot(figsize=(12,6))"
   ]
  },
  {
   "cell_type": "code",
   "execution_count": 90,
   "id": "a5e0fd2c",
   "metadata": {},
   "outputs": [],
   "source": [
    "from statsmodels.tsa.seasonal import seasonal_decompose"
   ]
  },
  {
   "cell_type": "code",
   "execution_count": 93,
   "id": "5405bb41",
   "metadata": {},
   "outputs": [],
   "source": [
    "# df.index.freq='min'\n",
    "\n",
    "# results = seasonal_decompose(df['glucose'])\n",
    "# results.plot();"
   ]
  },
  {
   "cell_type": "code",
   "execution_count": 95,
   "id": "7cf1b330",
   "metadata": {},
   "outputs": [
    {
     "name": "stdout",
     "output_type": "stream",
     "text": [
      "                     glucose\n",
      "datetime                    \n",
      "2014-10-01 19:14:00    185.4\n",
      "2014-10-01 19:19:00    178.2\n",
      "2014-10-01 19:23:00    169.2\n",
      "2014-10-01 19:24:00    176.4\n",
      "2014-10-01 19:29:00    172.8\n",
      "...                      ...\n",
      "2014-10-03 12:09:00    178.2\n",
      "2014-10-03 12:14:00    176.4\n",
      "2014-10-03 12:24:00    171.0\n",
      "2014-10-03 12:29:00    171.0\n",
      "2014-10-03 12:39:00    171.0\n",
      "\n",
      "[222 rows x 1 columns]                      glucose\n",
      "datetime                    \n",
      "2014-10-03 12:44:00    174.6\n",
      "2014-10-03 12:59:00    189.0\n",
      "2014-10-03 13:09:00    201.6\n",
      "2014-10-03 13:19:00    205.2\n",
      "2014-10-03 13:34:00    216.0\n",
      "...                      ...\n",
      "2014-10-04 13:04:00     72.0\n",
      "2014-10-04 13:09:00     79.2\n",
      "2014-10-04 13:19:00     97.2\n",
      "2014-10-04 13:24:00    106.2\n",
      "2014-10-04 13:44:00    131.4\n",
      "\n",
      "[96 rows x 1 columns]\n"
     ]
    }
   ],
   "source": [
    "train_size = int(len(df) * 0.7)\n",
    "set_index = len(df) - train_size\n",
    "\n",
    "train = df.iloc[:-set_index]\n",
    "test = df.iloc[-set_index:]\n",
    "print(train, test)"
   ]
  },
  {
   "cell_type": "code",
   "execution_count": 96,
   "id": "bb589ab2",
   "metadata": {},
   "outputs": [],
   "source": [
    "from sklearn.preprocessing import MinMaxScaler\n",
    "scaler = MinMaxScaler()"
   ]
  },
  {
   "cell_type": "code",
   "execution_count": 97,
   "id": "f7eea5de",
   "metadata": {},
   "outputs": [
    {
     "data": {
      "text/plain": [
       "(                     glucose\n",
       " datetime                    \n",
       " 2014-10-01 19:14:00    185.4\n",
       " 2014-10-01 19:19:00    178.2\n",
       " 2014-10-01 19:23:00    169.2\n",
       " 2014-10-01 19:24:00    176.4\n",
       " 2014-10-01 19:29:00    172.8,\n",
       "                      glucose\n",
       " datetime                    \n",
       " 2014-10-04 13:04:00     72.0\n",
       " 2014-10-04 13:09:00     79.2\n",
       " 2014-10-04 13:19:00     97.2\n",
       " 2014-10-04 13:24:00    106.2\n",
       " 2014-10-04 13:44:00    131.4)"
      ]
     },
     "execution_count": 97,
     "metadata": {},
     "output_type": "execute_result"
    }
   ],
   "source": [
    "df.head(),df.tail()"
   ]
  },
  {
   "cell_type": "code",
   "execution_count": 98,
   "id": "f5dfae7b",
   "metadata": {},
   "outputs": [],
   "source": [
    "scaler.fit(train)\n",
    "scaled_train = scaler.transform(train)\n",
    "scaled_test = scaler.transform(test)"
   ]
  },
  {
   "cell_type": "code",
   "execution_count": 99,
   "id": "653f3d43",
   "metadata": {},
   "outputs": [
    {
     "data": {
      "text/plain": [
       "array([[0.51265823],\n",
       "       [0.48734177],\n",
       "       [0.4556962 ],\n",
       "       [0.48101266],\n",
       "       [0.46835443],\n",
       "       [0.4556962 ],\n",
       "       [0.44303797],\n",
       "       [0.42405063],\n",
       "       [0.41139241],\n",
       "       [0.39240506]])"
      ]
     },
     "execution_count": 99,
     "metadata": {},
     "output_type": "execute_result"
    }
   ],
   "source": [
    "scaled_train[:10]"
   ]
  },
  {
   "cell_type": "code",
   "execution_count": 100,
   "id": "f79cf21b",
   "metadata": {},
   "outputs": [],
   "source": [
    "from keras.preprocessing.sequence import TimeseriesGenerator"
   ]
  },
  {
   "cell_type": "code",
   "execution_count": 101,
   "id": "afb9e1e0",
   "metadata": {},
   "outputs": [],
   "source": [
    "# define generator\n",
    "n_input = 3\n",
    "n_features = 1\n",
    "generator = TimeseriesGenerator(scaled_train, scaled_train, length=n_input, batch_size=1)"
   ]
  },
  {
   "cell_type": "code",
   "execution_count": 102,
   "id": "6ad30b8c",
   "metadata": {},
   "outputs": [
    {
     "name": "stdout",
     "output_type": "stream",
     "text": [
      "Given the Array: \n",
      "[0.51265823 0.48734177 0.4556962 ]\n",
      "Predict this y: \n",
      " [[0.48101266]]\n"
     ]
    }
   ],
   "source": [
    "X,y = generator[0]\n",
    "print(f'Given the Array: \\n{X.flatten()}')\n",
    "print(f'Predict this y: \\n {y}')"
   ]
  },
  {
   "cell_type": "code",
   "execution_count": 103,
   "id": "1a8c9dcd",
   "metadata": {},
   "outputs": [
    {
     "data": {
      "text/plain": [
       "(1, 3, 1)"
      ]
     },
     "execution_count": 103,
     "metadata": {},
     "output_type": "execute_result"
    }
   ],
   "source": [
    "X.shape"
   ]
  },
  {
   "cell_type": "code",
   "execution_count": 104,
   "id": "65dc144c",
   "metadata": {},
   "outputs": [],
   "source": [
    "# We do the same thing, but now instead for 12 months\n",
    "n_input = 12\n",
    "generator = TimeseriesGenerator(scaled_train, scaled_train, length=n_input, batch_size=1)"
   ]
  },
  {
   "cell_type": "code",
   "execution_count": 105,
   "id": "7cf6a164",
   "metadata": {},
   "outputs": [],
   "source": [
    "from keras.models import Sequential\n",
    "from keras.layers import Dense\n",
    "from keras.layers import LSTM"
   ]
  },
  {
   "cell_type": "code",
   "execution_count": 106,
   "id": "98c3cddb",
   "metadata": {},
   "outputs": [],
   "source": [
    "# define model\n",
    "model = Sequential()\n",
    "model.add(LSTM(100, activation='relu', input_shape=(n_input, n_features)))\n",
    "model.add(Dense(1))\n",
    "model.compile(optimizer='adam', loss='mse')"
   ]
  },
  {
   "cell_type": "code",
   "execution_count": 107,
   "id": "d6bcc7a9",
   "metadata": {},
   "outputs": [
    {
     "name": "stdout",
     "output_type": "stream",
     "text": [
      "Model: \"sequential_3\"\n",
      "_________________________________________________________________\n",
      "Layer (type)                 Output Shape              Param #   \n",
      "=================================================================\n",
      "lstm_3 (LSTM)                (None, 100)               40800     \n",
      "_________________________________________________________________\n",
      "dense_3 (Dense)              (None, 1)                 101       \n",
      "=================================================================\n",
      "Total params: 40,901\n",
      "Trainable params: 40,901\n",
      "Non-trainable params: 0\n",
      "_________________________________________________________________\n"
     ]
    }
   ],
   "source": [
    "model.summary()"
   ]
  },
  {
   "cell_type": "code",
   "execution_count": 108,
   "id": "601781a3",
   "metadata": {},
   "outputs": [
    {
     "name": "stdout",
     "output_type": "stream",
     "text": [
      "Epoch 1/50\n",
      "210/210 [==============================] - 1s 3ms/step - loss: 0.0383\n",
      "Epoch 2/50\n",
      "210/210 [==============================] - 1s 3ms/step - loss: 0.0169\n",
      "Epoch 3/50\n",
      "210/210 [==============================] - 1s 3ms/step - loss: 0.0145\n",
      "Epoch 4/50\n",
      "210/210 [==============================] - 1s 3ms/step - loss: 0.0130\n",
      "Epoch 5/50\n",
      "210/210 [==============================] - 1s 3ms/step - loss: 0.0119\n",
      "Epoch 6/50\n",
      "210/210 [==============================] - 1s 3ms/step - loss: 0.0099\n",
      "Epoch 7/50\n",
      "210/210 [==============================] - 1s 3ms/step - loss: 0.0090\n",
      "Epoch 8/50\n",
      "210/210 [==============================] - 1s 3ms/step - loss: 0.0088\n",
      "Epoch 9/50\n",
      "210/210 [==============================] - 1s 3ms/step - loss: 0.0084\n",
      "Epoch 10/50\n",
      "210/210 [==============================] - 1s 3ms/step - loss: 0.0070\n",
      "Epoch 11/50\n",
      "210/210 [==============================] - 1s 3ms/step - loss: 0.0071\n",
      "Epoch 12/50\n",
      "210/210 [==============================] - 1s 3ms/step - loss: 0.0070\n",
      "Epoch 13/50\n",
      "210/210 [==============================] - 1s 3ms/step - loss: 0.0073\n",
      "Epoch 14/50\n",
      "210/210 [==============================] - 1s 3ms/step - loss: 0.0062\n",
      "Epoch 15/50\n",
      "210/210 [==============================] - 1s 3ms/step - loss: 0.0064\n",
      "Epoch 16/50\n",
      "210/210 [==============================] - 1s 3ms/step - loss: 0.0066\n",
      "Epoch 17/50\n",
      "210/210 [==============================] - 1s 3ms/step - loss: 0.0061\n",
      "Epoch 18/50\n",
      "210/210 [==============================] - 1s 3ms/step - loss: 0.0058\n",
      "Epoch 19/50\n",
      "210/210 [==============================] - 1s 3ms/step - loss: 0.0064\n",
      "Epoch 20/50\n",
      "210/210 [==============================] - 1s 3ms/step - loss: 0.0062\n",
      "Epoch 21/50\n",
      "210/210 [==============================] - 1s 3ms/step - loss: 0.0058\n",
      "Epoch 22/50\n",
      "210/210 [==============================] - 1s 3ms/step - loss: 0.0057\n",
      "Epoch 23/50\n",
      "210/210 [==============================] - 1s 3ms/step - loss: 0.0073\n",
      "Epoch 24/50\n",
      "210/210 [==============================] - 1s 3ms/step - loss: 0.0062\n",
      "Epoch 25/50\n",
      "210/210 [==============================] - 1s 3ms/step - loss: 0.0060\n",
      "Epoch 26/50\n",
      "210/210 [==============================] - 1s 3ms/step - loss: 0.0055\n",
      "Epoch 27/50\n",
      "210/210 [==============================] - 1s 3ms/step - loss: 0.0059\n",
      "Epoch 28/50\n",
      "210/210 [==============================] - 1s 3ms/step - loss: 0.0059\n",
      "Epoch 29/50\n",
      "210/210 [==============================] - 1s 3ms/step - loss: 0.0055\n",
      "Epoch 30/50\n",
      "210/210 [==============================] - 1s 3ms/step - loss: 0.0056\n",
      "Epoch 31/50\n",
      "210/210 [==============================] - 1s 3ms/step - loss: 0.0054\n",
      "Epoch 32/50\n",
      "210/210 [==============================] - 1s 3ms/step - loss: 0.0051\n",
      "Epoch 33/50\n",
      "210/210 [==============================] - 1s 3ms/step - loss: 0.0054\n",
      "Epoch 34/50\n",
      "210/210 [==============================] - 1s 3ms/step - loss: 0.0061\n",
      "Epoch 35/50\n",
      "210/210 [==============================] - 1s 3ms/step - loss: 0.0053\n",
      "Epoch 36/50\n",
      "210/210 [==============================] - 1s 3ms/step - loss: 0.0052\n",
      "Epoch 37/50\n",
      "210/210 [==============================] - 1s 3ms/step - loss: 0.0052\n",
      "Epoch 38/50\n",
      "210/210 [==============================] - 1s 3ms/step - loss: 0.0047\n",
      "Epoch 39/50\n",
      "210/210 [==============================] - 1s 3ms/step - loss: 0.0059\n",
      "Epoch 40/50\n",
      "210/210 [==============================] - 1s 3ms/step - loss: 0.0052\n",
      "Epoch 41/50\n",
      "210/210 [==============================] - 1s 3ms/step - loss: 0.0053\n",
      "Epoch 42/50\n",
      "210/210 [==============================] - 1s 3ms/step - loss: 0.0046\n",
      "Epoch 43/50\n",
      "210/210 [==============================] - 1s 3ms/step - loss: 0.0054\n",
      "Epoch 44/50\n",
      "210/210 [==============================] - 1s 3ms/step - loss: 0.0057\n",
      "Epoch 45/50\n",
      "210/210 [==============================] - 1s 3ms/step - loss: 0.0054\n",
      "Epoch 46/50\n",
      "210/210 [==============================] - 1s 3ms/step - loss: 0.0052\n",
      "Epoch 47/50\n",
      "210/210 [==============================] - 1s 3ms/step - loss: 0.0052\n",
      "Epoch 48/50\n",
      "210/210 [==============================] - 1s 3ms/step - loss: 0.0054\n",
      "Epoch 49/50\n",
      "210/210 [==============================] - 1s 3ms/step - loss: 0.0056\n",
      "Epoch 50/50\n",
      "210/210 [==============================] - 1s 3ms/step - loss: 0.0052\n"
     ]
    },
    {
     "data": {
      "text/plain": [
       "<keras.callbacks.History at 0x7fd3930e0cd0>"
      ]
     },
     "execution_count": 108,
     "metadata": {},
     "output_type": "execute_result"
    }
   ],
   "source": [
    "# fit model\n",
    "model.fit(generator,epochs=50)"
   ]
  },
  {
   "cell_type": "code",
   "execution_count": 109,
   "id": "e734a55a",
   "metadata": {},
   "outputs": [
    {
     "data": {
      "text/plain": [
       "[<matplotlib.lines.Line2D at 0x7fd363cf2fa0>]"
      ]
     },
     "execution_count": 109,
     "metadata": {},
     "output_type": "execute_result"
    },
    {
     "data": {
      "image/png": "[encoded data removed]",
      "text/plain": [
       "<Figure size 432x288 with 1 Axes>"
      ]
     },
     "metadata": {
      "needs_background": "light"
     },
     "output_type": "display_data"
    }
   ],
   "source": [
    "loss_per_epoch = model.history.history['loss']\n",
    "plt.plot(range(len(loss_per_epoch)),loss_per_epoch)"
   ]
  },
  {
   "cell_type": "code",
   "execution_count": 110,
   "id": "19d24c65",
   "metadata": {},
   "outputs": [],
   "source": [
    "last_train_batch = scaled_train[-12:]"
   ]
  },
  {
   "cell_type": "code",
   "execution_count": 111,
   "id": "5a1868c2",
   "metadata": {},
   "outputs": [],
   "source": [
    "last_train_batch = last_train_batch.reshape((1, n_input, n_features))"
   ]
  },
  {
   "cell_type": "code",
   "execution_count": 112,
   "id": "9420a521",
   "metadata": {},
   "outputs": [
    {
     "data": {
      "text/plain": [
       "array([[0.46353248]], dtype=float32)"
      ]
     },
     "execution_count": 112,
     "metadata": {},
     "output_type": "execute_result"
    }
   ],
   "source": [
    "model.predict(last_train_batch)"
   ]
  },
  {
   "cell_type": "code",
   "execution_count": 113,
   "id": "a336923e",
   "metadata": {},
   "outputs": [
    {
     "data": {
      "text/plain": [
       "array([0.47468354])"
      ]
     },
     "execution_count": 113,
     "metadata": {},
     "output_type": "execute_result"
    }
   ],
   "source": [
    "scaled_test[0]"
   ]
  },
  {
   "cell_type": "code",
   "execution_count": 114,
   "id": "9eafeb3f",
   "metadata": {},
   "outputs": [],
   "source": [
    "test_predictions = []\n",
    "\n",
    "first_eval_batch = scaled_train[-n_input:]\n",
    "current_batch = first_eval_batch.reshape((1, n_input, n_features))\n",
    "\n",
    "for i in range(len(test)):\n",
    "    \n",
    "    # get the prediction value for the first batch\n",
    "    current_pred = model.predict(current_batch)[0]\n",
    "    \n",
    "    # append the prediction into the array\n",
    "    test_predictions.append(current_pred) \n",
    "    \n",
    "    # use the prediction to update the batch and remove the first value\n",
    "    current_batch = np.append(current_batch[:,1:,:],[[current_pred]],axis=1)"
   ]
  },
  {
   "cell_type": "code",
   "execution_count": 115,
   "id": "92ec5275",
   "metadata": {},
   "outputs": [
    {
     "data": {
      "text/plain": [
       "[array([0.46353248], dtype=float32),\n",
       " array([0.46864408], dtype=float32),\n",
       " array([0.4770075], dtype=float32),\n",
       " array([0.48778045], dtype=float32),\n",
       " array([0.50050735], dtype=float32),\n",
       " array([0.5144571], dtype=float32),\n",
       " array([0.5288981], dtype=float32),\n",
       " array([0.54312587], dtype=float32),\n",
       " array([0.55645394], dtype=float32),\n",
       " array([0.56822526], dtype=float32),\n",
       " array([0.5781087], dtype=float32),\n",
       " array([0.5853858], dtype=float32),\n",
       " array([0.5897622], dtype=float32),\n",
       " array([0.5911038], dtype=float32),\n",
       " array([0.58946013], dtype=float32),\n",
       " array([0.58505446], dtype=float32),\n",
       " array([0.57834774], dtype=float32),\n",
       " array([0.5699744], dtype=float32),\n",
       " array([0.5606707], dtype=float32),\n",
       " array([0.5512585], dtype=float32),\n",
       " array([0.5425148], dtype=float32),\n",
       " array([0.53505313], dtype=float32),\n",
       " array([0.52924204], dtype=float32),\n",
       " array([0.52531534], dtype=float32),\n",
       " array([0.5233878], dtype=float32),\n",
       " array([0.5233199], dtype=float32),\n",
       " array([0.52500796], dtype=float32),\n",
       " array([0.5282382], dtype=float32),\n",
       " array([0.5326936], dtype=float32),\n",
       " array([0.5379825], dtype=float32),\n",
       " array([0.54375386], dtype=float32),\n",
       " array([0.5496977], dtype=float32),\n",
       " array([0.55546844], dtype=float32),\n",
       " array([0.5606874], dtype=float32),\n",
       " array([0.5650048], dtype=float32),\n",
       " array([0.56826204], dtype=float32),\n",
       " array([0.57029283], dtype=float32),\n",
       " array([0.57102513], dtype=float32),\n",
       " array([0.5704769], dtype=float32),\n",
       " array([0.5687486], dtype=float32),\n",
       " array([0.56602454], dtype=float32),\n",
       " array([0.56256205], dtype=float32),\n",
       " array([0.55866003], dtype=float32),\n",
       " array([0.55463135], dtype=float32),\n",
       " array([0.55077827], dtype=float32),\n",
       " array([0.5473706], dtype=float32),\n",
       " array([0.5446048], dtype=float32),\n",
       " array([0.54257643], dtype=float32),\n",
       " array([0.54139185], dtype=float32),\n",
       " array([0.54106337], dtype=float32),\n",
       " array([0.5415449], dtype=float32),\n",
       " array([0.5427454], dtype=float32),\n",
       " array([0.5445455], dtype=float32),\n",
       " array([0.5467851], dtype=float32),\n",
       " array([0.5492964], dtype=float32),\n",
       " array([0.551908], dtype=float32),\n",
       " array([0.5544572], dtype=float32),\n",
       " array([0.55679846], dtype=float32),\n",
       " array([0.5587629], dtype=float32),\n",
       " array([0.56025255], dtype=float32),\n",
       " array([0.5612039], dtype=float32),\n",
       " array([0.5615845], dtype=float32),\n",
       " array([0.561402], dtype=float32),\n",
       " array([0.56070286], dtype=float32),\n",
       " array([0.55956686], dtype=float32),\n",
       " array([0.5581], dtype=float32),\n",
       " array([0.55642676], dtype=float32),\n",
       " array([0.55467975], dtype=float32),\n",
       " array([0.5529871], dtype=float32),\n",
       " array([0.5514647], dtype=float32),\n",
       " array([0.55020845], dtype=float32),\n",
       " array([0.54926103], dtype=float32),\n",
       " array([0.5486724], dtype=float32),\n",
       " array([0.54845744], dtype=float32),\n",
       " array([0.5486031], dtype=float32),\n",
       " array([0.54907405], dtype=float32),\n",
       " array([0.5498178], dtype=float32),\n",
       " array([0.550769], dtype=float32),\n",
       " array([0.5518544], dtype=float32),\n",
       " array([0.5529983], dtype=float32),\n",
       " array([0.55412674], dtype=float32),\n",
       " array([0.55517125], dtype=float32),\n",
       " array([0.556052], dtype=float32),\n",
       " array([0.55672944], dtype=float32),\n",
       " array([0.55717194], dtype=float32),\n",
       " array([0.5573641], dtype=float32),\n",
       " array([0.55730855], dtype=float32),\n",
       " array([0.55702424], dtype=float32),\n",
       " array([0.5565454], dtype=float32),\n",
       " array([0.5559175], dtype=float32),\n",
       " array([0.55519426], dtype=float32),\n",
       " array([0.5544322], dtype=float32),\n",
       " array([0.55368686], dtype=float32),\n",
       " array([0.55300915], dtype=float32),\n",
       " array([0.5524419], dtype=float32),\n",
       " array([0.55201507], dtype=float32)]"
      ]
     },
     "execution_count": 115,
     "metadata": {},
     "output_type": "execute_result"
    }
   ],
   "source": [
    "test_predictions"
   ]
  },
  {
   "cell_type": "code",
   "execution_count": 116,
   "id": "e94370c3",
   "metadata": {},
   "outputs": [
    {
     "data": {
      "text/html": [
       "<div>\n",
       "<style scoped>\n",
       "    .dataframe tbody tr th:only-of-type {\n",
       "        vertical-align: middle;\n",
       "    }\n",
       "\n",
       "    .dataframe tbody tr th {\n",
       "        vertical-align: top;\n",
       "    }\n",
       "\n",
       "    .dataframe thead th {\n",
       "        text-align: right;\n",
       "    }\n",
       "</style>\n",
       "<table border=\"1\" class=\"dataframe\">\n",
       "  <thead>\n",
       "    <tr style=\"text-align: right;\">\n",
       "      <th></th>\n",
       "      <th>glucose</th>\n",
       "    </tr>\n",
       "    <tr>\n",
       "      <th>datetime</th>\n",
       "      <th></th>\n",
       "    </tr>\n",
       "  </thead>\n",
       "  <tbody>\n",
       "    <tr>\n",
       "      <th>2014-10-03 12:44:00</th>\n",
       "      <td>174.6</td>\n",
       "    </tr>\n",
       "    <tr>\n",
       "      <th>2014-10-03 12:59:00</th>\n",
       "      <td>189.0</td>\n",
       "    </tr>\n",
       "    <tr>\n",
       "      <th>2014-10-03 13:09:00</th>\n",
       "      <td>201.6</td>\n",
       "    </tr>\n",
       "    <tr>\n",
       "      <th>2014-10-03 13:19:00</th>\n",
       "      <td>205.2</td>\n",
       "    </tr>\n",
       "    <tr>\n",
       "      <th>2014-10-03 13:34:00</th>\n",
       "      <td>216.0</td>\n",
       "    </tr>\n",
       "  </tbody>\n",
       "</table>\n",
       "</div>"
      ],
      "text/plain": [
       "                     glucose\n",
       "datetime                    \n",
       "2014-10-03 12:44:00    174.6\n",
       "2014-10-03 12:59:00    189.0\n",
       "2014-10-03 13:09:00    201.6\n",
       "2014-10-03 13:19:00    205.2\n",
       "2014-10-03 13:34:00    216.0"
      ]
     },
     "execution_count": 116,
     "metadata": {},
     "output_type": "execute_result"
    }
   ],
   "source": [
    "test.head()"
   ]
  },
  {
   "cell_type": "code",
   "execution_count": 117,
   "id": "eaa1bf23",
   "metadata": {},
   "outputs": [],
   "source": [
    "true_predictions = scaler.inverse_transform(test_predictions)"
   ]
  },
  {
   "cell_type": "code",
   "execution_count": 118,
   "id": "d96d74f8",
   "metadata": {},
   "outputs": [
    {
     "name": "stderr",
     "output_type": "stream",
     "text": [
      "/var/folders/sw/bhwsqj457gg7f1ycx1_p1j480000gn/T/ipykernel_1625/4269337381.py:1: SettingWithCopyWarning: \n",
      "A value is trying to be set on a copy of a slice from a DataFrame.\n",
      "Try using .loc[row_indexer,col_indexer] = value instead\n",
      "\n",
      "See the caveats in the documentation: https://pandas.pydata.org/pandas-docs/stable/user_guide/indexing.html#returning-a-view-versus-a-copy\n",
      "  test['Predictions'] = true_predictions\n"
     ]
    }
   ],
   "source": [
    "test['Predictions'] = true_predictions"
   ]
  },
  {
   "cell_type": "code",
   "execution_count": 119,
   "id": "563ff639",
   "metadata": {},
   "outputs": [
    {
     "data": {
      "text/plain": [
       "<AxesSubplot:xlabel='datetime'>"
      ]
     },
     "execution_count": 119,
     "metadata": {},
     "output_type": "execute_result"
    },
    {
     "data": {
      "image/png": "[encoded data removed]",
      "text/plain": [
       "<Figure size 1008x360 with 1 Axes>"
      ]
     },
     "metadata": {
      "needs_background": "light"
     },
     "output_type": "display_data"
    }
   ],
   "source": [
    "test.plot(figsize=(14,5))\n"
   ]
  },
  {
   "cell_type": "code",
   "execution_count": 121,
   "id": "72a3561a",
   "metadata": {},
   "outputs": [
    {
     "name": "stdout",
     "output_type": "stream",
     "text": [
      "136.67844078735317\n"
     ]
    }
   ],
   "source": [
    "from sklearn.metrics import mean_squared_error\n",
    "from math import sqrt\n",
    "rmse=sqrt(mean_squared_error(test['glucose'],test['Predictions']))\n",
    "print(rmse)"
   ]
  },
  {
   "cell_type": "code",
   "execution_count": null,
   "id": "74879329",
   "metadata": {},
   "outputs": [],
   "source": [
    "# this model is, technically speaking, terrible and useless 😐"
   ]
  }
 ],
 "metadata": {
  "kernelspec": {
   "display_name": "Python 3 (ipykernel)",
   "language": "python",
   "name": "python3"
  },
  "language_info": {
   "codemirror_mode": {
    "name": "ipython",
    "version": 3
   },
   "file_extension": ".py",
   "mimetype": "text/x-python",
   "name": "python",
   "nbconvert_exporter": "python",
   "pygments_lexer": "ipython3",
   "version": "3.9.6"
  }
 },
 "nbformat": 4,
 "nbformat_minor": 5
}
